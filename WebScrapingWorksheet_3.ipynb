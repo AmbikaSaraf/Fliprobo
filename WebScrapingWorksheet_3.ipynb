{
 "cells": [
  {
   "cell_type": "code",
   "execution_count": 1,
   "metadata": {},
   "outputs": [],
   "source": [
    "import selenium\n",
    "from selenium import webdriver\n",
    "import pandas as pd\n",
    "import time"
   ]
  },
  {
   "cell_type": "markdown",
   "metadata": {},
   "source": [
    "Q1. Write a python program which searches all the product under a particular product vertical from www.amazon.in. The product verticals to be searched will be taken as input from user. For e.g. If user input is ‘guitar’. Then search for guitars."
   ]
  },
  {
   "cell_type": "code",
   "execution_count": 2,
   "metadata": {},
   "outputs": [],
   "source": [
    "driver= webdriver.Chrome(r\"C:\\Users\\Rajeev\\Downloads\\chromedriver_win32\\chromedriver.exe\")"
   ]
  },
  {
   "cell_type": "code",
   "execution_count": 3,
   "metadata": {},
   "outputs": [],
   "source": [
    "# Getting url\n",
    "url= \"https://www.amazon.in/\"\n",
    "driver.get(url)"
   ]
  },
  {
   "cell_type": "code",
   "execution_count": 4,
   "metadata": {},
   "outputs": [
    {
     "name": "stdout",
     "output_type": "stream",
     "text": [
      "Enter the product name : \n",
      "guitar\n"
     ]
    }
   ],
   "source": [
    "prod= input(\"Enter the product name : \\n\")\n",
    "search=driver.find_element_by_id(\"twotabsearchtextbox\")\n",
    "search.send_keys(prod)"
   ]
  },
  {
   "cell_type": "code",
   "execution_count": 5,
   "metadata": {},
   "outputs": [],
   "source": [
    "search_btn=driver.find_element_by_xpath(\"/html/body/div[1]/header/div/div[1]/div[2]/div/form/div[3]/div/span/input\")\n",
    "search_btn.click()"
   ]
  },
  {
   "cell_type": "markdown",
   "metadata": {},
   "source": [
    "2. In the above question, now scrape the following details of each product listed in first 3 pages of your search results and save it in a data frame and csv. In case if any product vertical has less than 3 pages in search results then scrape all the products available under that product vertical. Details to be scraped are: \"Brand Name\", \"Name of the Product\", \"Rating\", \"No. of Ratings\", \"Price\", \"Return/Exchange\", \"Expected Delivery\", \"Availability\", \"Other Details\" and “Product URL”. In case, if any of the details are missing for any of the product then replace it by “-“."
   ]
  },
  {
   "cell_type": "code",
   "execution_count": 6,
   "metadata": {},
   "outputs": [
    {
     "ename": "IndexError",
     "evalue": "list index out of range",
     "output_type": "error",
     "traceback": [
      "\u001b[1;31m---------------------------------------------------------------------------\u001b[0m",
      "\u001b[1;31mIndexError\u001b[0m                                Traceback (most recent call last)",
      "\u001b[1;32m<ipython-input-6-eb5251c06409>\u001b[0m in \u001b[0;36m<module>\u001b[1;34m\u001b[0m\n\u001b[0;32m      8\u001b[0m     \u001b[1;32mtry\u001b[0m\u001b[1;33m:\u001b[0m\u001b[1;33m\u001b[0m\u001b[1;33m\u001b[0m\u001b[0m\n\u001b[1;32m----> 9\u001b[1;33m         \u001b[0mdriver\u001b[0m\u001b[1;33m.\u001b[0m\u001b[0mget\u001b[0m\u001b[1;33m(\u001b[0m\u001b[0mnxt_button\u001b[0m\u001b[1;33m[\u001b[0m\u001b[1;36m1\u001b[0m\u001b[1;33m]\u001b[0m\u001b[1;33m.\u001b[0m\u001b[0mget_attribute\u001b[0m\u001b[1;33m(\u001b[0m\u001b[1;34m'href'\u001b[0m\u001b[1;33m)\u001b[0m\u001b[1;33m)\u001b[0m       \u001b[1;31m#getting the link from the list for next page\u001b[0m\u001b[1;33m\u001b[0m\u001b[1;33m\u001b[0m\u001b[0m\n\u001b[0m\u001b[0;32m     10\u001b[0m     \u001b[1;32mexcept\u001b[0m\u001b[1;33m:\u001b[0m\u001b[1;33m\u001b[0m\u001b[1;33m\u001b[0m\u001b[0m\n",
      "\u001b[1;31mIndexError\u001b[0m: list index out of range",
      "\nDuring handling of the above exception, another exception occurred:\n",
      "\u001b[1;31mIndexError\u001b[0m                                Traceback (most recent call last)",
      "\u001b[1;32m<ipython-input-6-eb5251c06409>\u001b[0m in \u001b[0;36m<module>\u001b[1;34m\u001b[0m\n\u001b[0;32m      9\u001b[0m         \u001b[0mdriver\u001b[0m\u001b[1;33m.\u001b[0m\u001b[0mget\u001b[0m\u001b[1;33m(\u001b[0m\u001b[0mnxt_button\u001b[0m\u001b[1;33m[\u001b[0m\u001b[1;36m1\u001b[0m\u001b[1;33m]\u001b[0m\u001b[1;33m.\u001b[0m\u001b[0mget_attribute\u001b[0m\u001b[1;33m(\u001b[0m\u001b[1;34m'href'\u001b[0m\u001b[1;33m)\u001b[0m\u001b[1;33m)\u001b[0m       \u001b[1;31m#getting the link from the list for next page\u001b[0m\u001b[1;33m\u001b[0m\u001b[1;33m\u001b[0m\u001b[0m\n\u001b[0;32m     10\u001b[0m     \u001b[1;32mexcept\u001b[0m\u001b[1;33m:\u001b[0m\u001b[1;33m\u001b[0m\u001b[1;33m\u001b[0m\u001b[0m\n\u001b[1;32m---> 11\u001b[1;33m         \u001b[0mdriver\u001b[0m\u001b[1;33m.\u001b[0m\u001b[0mget\u001b[0m\u001b[1;33m(\u001b[0m\u001b[0mnxt_button\u001b[0m\u001b[1;33m[\u001b[0m\u001b[1;36m0\u001b[0m\u001b[1;33m]\u001b[0m\u001b[1;33m.\u001b[0m\u001b[0mget_attribute\u001b[0m\u001b[1;33m(\u001b[0m\u001b[1;34m'href'\u001b[0m\u001b[1;33m)\u001b[0m\u001b[1;33m)\u001b[0m\u001b[1;33m\u001b[0m\u001b[1;33m\u001b[0m\u001b[0m\n\u001b[0m",
      "\u001b[1;31mIndexError\u001b[0m: list index out of range"
     ]
    }
   ],
   "source": [
    "# Scraping urls for each url of product\n",
    "urls=[]\n",
    "for i in range(1,4):\n",
    "    url_tags=driver.find_elements_by_xpath(\"//a[@class='a-link-normal a-text-normal']\")\n",
    "    for j in url_tags:\n",
    "        urls.append(j.get_attribute(\"href\"))\n",
    "    nxt_button=driver.find_elements_by_xpath(\"//a[@class='a-last']\")     #scraping the list of buttons from the page\n",
    "    try:\n",
    "        driver.get(nxt_button[1].get_attribute('href'))       #getting the link from the list for next page\n",
    "    except:\n",
    "        driver.get(nxt_button[0].get_attribute('href'))"
   ]
  },
  {
   "cell_type": "code",
   "execution_count": null,
   "metadata": {},
   "outputs": [],
   "source": [
    "brand=[]\n",
    "product_name=[]\n",
    "ratings=[]\n",
    "numb_ratings=[]\n",
    "price=[]\n",
    "prod_url=[]\n",
    "Return=[]\n",
    "exp_delivery=[]\n",
    "availability=[]\n",
    "other=[]"
   ]
  },
  {
   "cell_type": "code",
   "execution_count": 8,
   "metadata": {
    "scrolled": true
   },
   "outputs": [],
   "source": [
    "for i in range(len(urls)):\n",
    "    driver.get(urls[i])\n",
    "    time.sleep(5)\n",
    "    prod_url.append(urls[i])\n",
    "    try:\n",
    "        brand_tag= driver.find_element_by_xpath(\"//span[@class='a-size-base']\")\n",
    "        brand.append(brand_tag.text)\n",
    "    except:\n",
    "        brand.append(\"-\")\n",
    "    try:\n",
    "        name= driver.find_element_by_id(\"productTitle\")\n",
    "        product_name.append(name.text)\n",
    "    except:\n",
    "        product_name.append(\"-\")\n",
    "    try:\n",
    "        rate_tag= driver.find_element_by_xpath(\"//span[@class='a-size-base a-nowrap']\")\n",
    "        ratings.append(rate_tags.text)\n",
    "    except:\n",
    "        ratings.append(\"-\")\n",
    "    try:\n",
    "        num_rate= driver.find_element_by_xpath(\"//div[@class='a-row a-spacing-medium averageStarRatingNumerical']\")\n",
    "        numb_ratings.append(num_rate.text)\n",
    "    except:\n",
    "        numb_ratings.append(\"-\")\n",
    "    try:\n",
    "        price_tag= driver.find_element_by_id(\"priceblock_ourprice\")\n",
    "        price.append(price_tag.text)\n",
    "    except:\n",
    "        price.append(\"-\")\n",
    "    try:\n",
    "        retrn= driver.find_element_by_xpath(\"//a[@class='a-size-small a-link-normal a-text-normal']\")\n",
    "        Return.append(retrn.text)\n",
    "    except:\n",
    "        Return.append(\"-\")\n",
    "    try:\n",
    "        deliver= driver.find_element_by_id(\"ddmDeliveryMessage\")\n",
    "        exp_delivery.append(deliver.text)\n",
    "    except:\n",
    "        exp_delivery.append(\"-\")\n",
    "    try:\n",
    "        avail= driver.find_element_by_id(\"availability\")\n",
    "        availability.append(avail.text)\n",
    "    except:\n",
    "        availability.append(\"-\")\n",
    "    try:\n",
    "        tag= driver.find_element_by_xpath(\"//tr[@class='a-section a-spacing-small a-spacing-top-small']\")\n",
    "        other.append(tag.text)\n",
    "    except:\n",
    "        other.append(\"-\")"
   ]
  },
  {
   "cell_type": "code",
   "execution_count": 9,
   "metadata": {},
   "outputs": [
    {
     "data": {
      "text/html": [
       "<div>\n",
       "<style scoped>\n",
       "    .dataframe tbody tr th:only-of-type {\n",
       "        vertical-align: middle;\n",
       "    }\n",
       "\n",
       "    .dataframe tbody tr th {\n",
       "        vertical-align: top;\n",
       "    }\n",
       "\n",
       "    .dataframe thead th {\n",
       "        text-align: right;\n",
       "    }\n",
       "</style>\n",
       "<table border=\"1\" class=\"dataframe\">\n",
       "  <thead>\n",
       "    <tr style=\"text-align: right;\">\n",
       "      <th></th>\n",
       "      <th>Brand</th>\n",
       "      <th>Product_Name</th>\n",
       "      <th>Ratings</th>\n",
       "      <th>NumberOfRatings</th>\n",
       "      <th>Availability</th>\n",
       "      <th>Expected_Delivery</th>\n",
       "      <th>Return</th>\n",
       "      <th>Price</th>\n",
       "      <th>Other_Details</th>\n",
       "    </tr>\n",
       "  </thead>\n",
       "  <tbody>\n",
       "    <tr>\n",
       "      <th>0</th>\n",
       "      <td></td>\n",
       "      <td>Juârez Acoustic Guitar, 38 Inch Cutaway, 038C ...</td>\n",
       "      <td>-</td>\n",
       "      <td>11,357 global ratings</td>\n",
       "      <td>In stock.</td>\n",
       "      <td>This item cannot be shipped to your selected d...</td>\n",
       "      <td>Pay on Delivery</td>\n",
       "      <td>₹2,649.00</td>\n",
       "      <td>-</td>\n",
       "    </tr>\n",
       "    <tr>\n",
       "      <th>1</th>\n",
       "      <td></td>\n",
       "      <td>Intern INT-38C Acoustic Guitar Kit, With Bag, ...</td>\n",
       "      <td>-</td>\n",
       "      <td>6,225 global ratings</td>\n",
       "      <td>In stock.</td>\n",
       "      <td>This item cannot be shipped to your selected d...</td>\n",
       "      <td>Pay on Delivery</td>\n",
       "      <td>₹2,290.00</td>\n",
       "      <td>-</td>\n",
       "    </tr>\n",
       "    <tr>\n",
       "      <th>2</th>\n",
       "      <td></td>\n",
       "      <td>Medellin MED-BLU-C Linden Wood Acoustic Guitar</td>\n",
       "      <td>-</td>\n",
       "      <td>467 global ratings</td>\n",
       "      <td>In stock.</td>\n",
       "      <td>This item cannot be shipped to your selected d...</td>\n",
       "      <td>Pay on Delivery</td>\n",
       "      <td>₹2,299.00</td>\n",
       "      <td>-</td>\n",
       "    </tr>\n",
       "    <tr>\n",
       "      <th>3</th>\n",
       "      <td></td>\n",
       "      <td>Juârez JRZ38C/WH 6 Strings Acoustic Guitar 38 ...</td>\n",
       "      <td>-</td>\n",
       "      <td>386 global ratings</td>\n",
       "      <td>In stock.</td>\n",
       "      <td>This item cannot be shipped to your selected d...</td>\n",
       "      <td>Pay on Delivery</td>\n",
       "      <td>₹2,649.00</td>\n",
       "      <td>-</td>\n",
       "    </tr>\n",
       "    <tr>\n",
       "      <th>4</th>\n",
       "      <td></td>\n",
       "      <td>Juârez Acoustic Guitar, 38 Inch Cutaway, 038C ...</td>\n",
       "      <td>-</td>\n",
       "      <td>11,357 global ratings</td>\n",
       "      <td>In stock.</td>\n",
       "      <td>This item cannot be shipped to your selected d...</td>\n",
       "      <td>Pay on Delivery</td>\n",
       "      <td>₹2,649.00</td>\n",
       "      <td>-</td>\n",
       "    </tr>\n",
       "  </tbody>\n",
       "</table>\n",
       "</div>"
      ],
      "text/plain": [
       "  Brand                                       Product_Name Ratings  \\\n",
       "0        Juârez Acoustic Guitar, 38 Inch Cutaway, 038C ...       -   \n",
       "1        Intern INT-38C Acoustic Guitar Kit, With Bag, ...       -   \n",
       "2           Medellin MED-BLU-C Linden Wood Acoustic Guitar       -   \n",
       "3        Juârez JRZ38C/WH 6 Strings Acoustic Guitar 38 ...       -   \n",
       "4        Juârez Acoustic Guitar, 38 Inch Cutaway, 038C ...       -   \n",
       "\n",
       "         NumberOfRatings Availability  \\\n",
       "0  11,357 global ratings    In stock.   \n",
       "1   6,225 global ratings    In stock.   \n",
       "2     467 global ratings    In stock.   \n",
       "3     386 global ratings    In stock.   \n",
       "4  11,357 global ratings    In stock.   \n",
       "\n",
       "                                   Expected_Delivery           Return  \\\n",
       "0  This item cannot be shipped to your selected d...  Pay on Delivery   \n",
       "1  This item cannot be shipped to your selected d...  Pay on Delivery   \n",
       "2  This item cannot be shipped to your selected d...  Pay on Delivery   \n",
       "3  This item cannot be shipped to your selected d...  Pay on Delivery   \n",
       "4  This item cannot be shipped to your selected d...  Pay on Delivery   \n",
       "\n",
       "       Price Other_Details  \n",
       "0  ₹2,649.00             -  \n",
       "1  ₹2,290.00             -  \n",
       "2  ₹2,299.00             -  \n",
       "3  ₹2,649.00             -  \n",
       "4  ₹2,649.00             -  "
      ]
     },
     "execution_count": 9,
     "metadata": {},
     "output_type": "execute_result"
    }
   ],
   "source": [
    "## Creating dataframe\n",
    "prod_details=pd.DataFrame()\n",
    "prod_details[\"Brand\"]=brand\n",
    "prod_details[\"Product_Name\"]=product_name\n",
    "prod_details[\"Ratings\"]=ratings\n",
    "prod_details[\"NumberOfRatings\"]=numb_ratings\n",
    "prod_details[\"Availability\"]=availability\n",
    "prod_details[\"Expected_Delivery\"]=exp_delivery\n",
    "prod_details[\"Return\"]=Return\n",
    "prod_details[\"Price\"]=price\n",
    "prod_details[\"Other_Details\"]=other\n",
    "prod_details.head()"
   ]
  },
  {
   "cell_type": "code",
   "execution_count": 11,
   "metadata": {},
   "outputs": [],
   "source": [
    "# Saving File\n",
    "prod_details.to_csv(\"Product_Details\")"
   ]
  },
  {
   "cell_type": "markdown",
   "metadata": {},
   "source": [
    "3. Write a python program to access the search bar and search button on images.google.com and scrape 100 images each for keywords ‘fruits’, ‘cars’ and ‘Machine Learning’."
   ]
  },
  {
   "cell_type": "code",
   "execution_count": 7,
   "metadata": {},
   "outputs": [],
   "source": [
    "# Getting url\n",
    "url= \"https://images.google.com/\""
   ]
  },
  {
   "cell_type": "code",
   "execution_count": 8,
   "metadata": {
    "scrolled": true
   },
   "outputs": [
    {
     "name": "stdout",
     "output_type": "stream",
     "text": [
      "fruits   100\n",
      "cars   200\n",
      "Machine Learning   100\n"
     ]
    }
   ],
   "source": [
    "list=[\"fruits\",\"cars\",\"Machine Learning\"]\n",
    "for i in list:\n",
    "    driver.get(url)\n",
    "    search=driver.find_element_by_xpath(\"/html/body/div[2]/div[2]/div/form/div[1]/div[1]/div[1]/div/div[2]/input\")\n",
    "    search.send_keys(i)\n",
    "    search_btn=driver.find_element_by_xpath(\"/html/body/div[2]/div[2]/div/form/div[1]/div[1]/div[1]/button/div\")\n",
    "    search_btn.click()\n",
    "    time.sleep(5)\n",
    "    image= driver.find_elements_by_xpath(\"//div[@class='bRMDJf islir']\")\n",
    "    img=[]\n",
    "    for j in image:\n",
    "        img.append(j.get_attribute(\"src\"))\n",
    "    print(i,\" \", len(img))"
   ]
  },
  {
   "cell_type": "code",
   "execution_count": 9,
   "metadata": {},
   "outputs": [],
   "source": [
    "driver.close()"
   ]
  },
  {
   "cell_type": "markdown",
   "metadata": {},
   "source": [
    "4. Write a python program to search for a smartphone(e.g.: Oneplus Nord, pixel 4A, etc.) on www.flipkart.com and scrape following details for all the search results displayed on 1st page. Details to be scraped: “Brand Name”, “Smartphone name”, “Colour”, “RAM”, “Storage(ROM)”, “Primary Camera”, “Secondary Camera”, “Display Size”, “Display Resolution”, “Processor”, “Processor Cores”, “Battery Capacity”, “Price”, “Product URL”. Incase if any of the details is missing then replace it by “- “. Save your results in a dataframe and CSV."
   ]
  },
  {
   "cell_type": "code",
   "execution_count": 10,
   "metadata": {},
   "outputs": [],
   "source": [
    "driver= webdriver.Chrome(r\"C:\\Users\\Rajeev\\Downloads\\chromedriver_win32\\chromedriver.exe\")"
   ]
  },
  {
   "cell_type": "code",
   "execution_count": 24,
   "metadata": {},
   "outputs": [],
   "source": [
    "url=\"https://www.flipkart.com\"\n",
    "driver.get(url)"
   ]
  },
  {
   "cell_type": "code",
   "execution_count": 25,
   "metadata": {},
   "outputs": [],
   "source": [
    "search=driver.find_element_by_xpath(\"/html/body/div[1]/div/div[1]/div[1]/div[2]/div[2]/form/div/div/input\")\n",
    "search.send_keys(\"Oneplus Nord,pixel 4A\")"
   ]
  },
  {
   "cell_type": "code",
   "execution_count": 26,
   "metadata": {},
   "outputs": [],
   "source": [
    "btn= driver.find_element_by_xpath(\"/html/body/div[1]/div/div[1]/div[1]/div[2]/div[2]/form/div/button\")\n",
    "btn.click()"
   ]
  },
  {
   "cell_type": "code",
   "execution_count": 27,
   "metadata": {},
   "outputs": [],
   "source": [
    "# Scraping urls for each url of product\n",
    "urls=[]\n",
    "url_tags=driver.find_elements_by_xpath(\"//a[@class='_1fQZEK']\")\n",
    "for j in url_tags:\n",
    "    urls.append(j.get_attribute(\"href\"))"
   ]
  },
  {
   "cell_type": "code",
   "execution_count": 28,
   "metadata": {},
   "outputs": [],
   "source": [
    "name=[]\n",
    "color=[]\n",
    "ram=[]\n",
    "rom=[]\n",
    "pri_cam=[]\n",
    "sec_cam=[]\n",
    "disp_size=[]\n",
    "disp_res=[]\n",
    "processor=[]\n",
    "battery=[]\n",
    "price=[]"
   ]
  },
  {
   "cell_type": "code",
   "execution_count": null,
   "metadata": {},
   "outputs": [],
   "source": [
    "for i in range(len(urls)):\n",
    "    driver.get(urls[i])\n",
    "    time.sleep(5)\n",
    "    btn= driver.find_element_by_xpath(\"//button[@class='_2KpZ6l _1FH0tX']\")\n",
    "    btn.click()\n",
    "    try:\n",
    "        color_tag= driver.find_element_by_xpath(\"/html/body/div[1]/div/div[3]/div[1]/div[2]/div[9]/div[4]/div/div[2]/div[1]/div[1]/table/tbody/tr[4]/td[2]/ul/li\")\n",
    "        color.append(color_tag.text)\n",
    "    except:\n",
    "        color.append(\"-\")\n",
    "    try:\n",
    "        name_tag= driver.find_element_by_xpath(\"//span[@class='B_NuCI']\")\n",
    "        name.append(name_tag.text)\n",
    "    except:\n",
    "        name.append(\"-\")\n",
    "    try:\n",
    "        disp_tag= driver.find_element_by_xpath(\"/html/body/div[1]/div/div[3]/div[1]/div[2]/div[9]/div[4]/div/div[2]/div[1]/div[2]/table/tbody/tr[1]/td[2]/ul/li\")\n",
    "        disp_size.append(disp_tag.text)\n",
    "    except:\n",
    "        disp_size.append(\"-\")\n",
    "    try:\n",
    "        disp_tags= driver.find_element_by_xpath(\"/html/body/div[1]/div/div[3]/div[1]/div[2]/div[9]/div[4]/div/div[2]/div[1]/div[2]/table/tbody/tr[2]/td[2]/ul/li\")\n",
    "        disp_res.append(disp_tags.text)\n",
    "    except:\n",
    "        disp_res.append(\"-\")\n",
    "    try:\n",
    "        price_tag= driver.find_element_by_xpath(\"//div[@class='_30jeq3 _16Jk6d']\")\n",
    "        price.append(price_tag.text)\n",
    "    except:\n",
    "        price.append(\"-\")\n",
    "    try:\n",
    "        cam_tag= driver.find_element_by_xpath(\"/html/body/div[1]/div/div[3]/div[1]/div[2]/div[9]/div[4]/div/div[2]/div[1]/div[5]/table/tbody/tr[2]/td[2]/ul/li\")\n",
    "        pri_cam.append(cam_tag.text)\n",
    "    except:\n",
    "        pri_cam.append(\"-\")\n",
    "    try:\n",
    "        cam_tags= driver.find_element_by_xpath(\"/html/body/div[1]/div/div[3]/div[1]/div[2]/div[9]/div[4]/div/div[2]/div[1]/div[5]/table/tbody/tr[5]/td[2]/ul/li\")\n",
    "        sec_cam.append(cam_tags.text)\n",
    "    except:\n",
    "        sec_cam.append(\"-\")\n",
    "    try:\n",
    "        proc= driver.find_element_by_xpath(\"/html/body/div[1]/div/div[3]/div[1]/div[2]/div[8]/div[1]/div/div[2]/ul/li[5]\")\n",
    "        processor.append(proc.text)\n",
    "    except:\n",
    "        processor.append(\"-\")\n",
    "    try:\n",
    "        btry= driver.find_element_by_xpath(\"/html/body/div[1]/div/div[3]/div[1]/div[2]/div[8]/div[1]/div/div[2]/ul/li[4]\")\n",
    "        battery.append(btry.text)\n",
    "    except:\n",
    "        battery.append(\"-\")\n",
    "    try:\n",
    "        mem= driver.find_element_by_xpath(\"/html/body/div[1]/div/div[3]/div[1]/div[2]/div[9]/div[4]/div/div[2]/div[1]/div[4]/table/tbody/tr[2]/td[2]\")\n",
    "        ram.append(mem.text)\n",
    "    except:\n",
    "        ram.append(\"-\")\n",
    "    try:\n",
    "        memr= driver.find_element_by_xpath(\"/html/body/div[1]/div/div[3]/div[1]/div[2]/div[9]/div[4]/div/div[2]/div[1]/div[4]/table/tbody/tr[1]/td[2]/ul/li\")\n",
    "        rom.append(memr.text)\n",
    "    except:\n",
    "        rom.append(\"-\")"
   ]
  },
  {
   "cell_type": "code",
   "execution_count": null,
   "metadata": {},
   "outputs": [],
   "source": [
    "## Creating dataframe\n",
    "prod_detail=pd.DataFrame()\n",
    "prod_detail[\"Product_Name\"]=name\n",
    "prod_detail[\"Colour\"]=color\n",
    "prod_detail[\"Display Size\"]=disp_size\n",
    "prod_detail[\"Display Resolution\"]=disp_res\n",
    "prod_detail[\"Primary Camera\"]=pri_cam\n",
    "prod_detail[\"Secondary Camera\"]=sec_cam\n",
    "prod_detail[\"Price\"]=price\n",
    "prod_detail[\"Battery\"]=battery\n",
    "prod_detail[\"Processor\"]=processor\n",
    "prod_detail[\"RAM\"]=ram\n",
    "prod_detail[\"ROM\"]=rom\n",
    "prod_detail[\"Product URL\"]=url\n",
    "prod_detail.head()"
   ]
  },
  {
   "cell_type": "code",
   "execution_count": 30,
   "metadata": {},
   "outputs": [],
   "source": [
    "# Saving File\n",
    "prod_detail.to_csv(\"Mobile_Details\")"
   ]
  },
  {
   "cell_type": "markdown",
   "metadata": {},
   "source": [
    "5. Write a program to scrap geospatial coordinates (latitude, longitude) of a city searched on google maps."
   ]
  },
  {
   "cell_type": "code",
   "execution_count": 29,
   "metadata": {},
   "outputs": [],
   "source": [
    "url=\"https://www.google.com/maps\"\n",
    "driver.get(url)"
   ]
  },
  {
   "cell_type": "code",
   "execution_count": 30,
   "metadata": {},
   "outputs": [
    {
     "name": "stdout",
     "output_type": "stream",
     "text": [
      "Enter City Name: \n",
      "delhi\n"
     ]
    }
   ],
   "source": [
    "city= input(\"Enter City Name: \\n\")\n",
    "search= driver.find_element_by_xpath(\"//input[@class='tactile-searchbox-input']\")\n",
    "search.send_keys(city)"
   ]
  },
  {
   "cell_type": "code",
   "execution_count": 31,
   "metadata": {},
   "outputs": [],
   "source": [
    "import re"
   ]
  },
  {
   "cell_type": "code",
   "execution_count": 32,
   "metadata": {},
   "outputs": [
    {
     "name": "stdout",
     "output_type": "stream",
     "text": [
      "URL Extracted:  https://www.google.com/maps/@28.6425021,77.3037791,13z\n"
     ]
    }
   ],
   "source": [
    "try:\n",
    "\n",
    "    url_string = driver.current_url\n",
    "\n",
    "    print(\"URL Extracted: \", url_string)\n",
    "\n",
    "    lat_lng = re.findall(r'@(.*)data',url_string)\n",
    "\n",
    "    if (len(lat_lng)>0):\n",
    "\n",
    "        lat_lng_list = lat_lng[0].split(\",\")\n",
    "\n",
    "        if len(lat_lng_list)>=2:\n",
    "\n",
    "            lat = lat_lng_list[0]\n",
    "\n",
    "            lng = lat_lng_list[1]\n",
    "\n",
    "        print(\"Latitude = {}, Longitude = {}\".format(lat, lng))\n",
    "\n",
    "\n",
    "\n",
    "except Exception as e:\n",
    "\n",
    "        print(\"Error: \", str(e))"
   ]
  },
  {
   "cell_type": "markdown",
   "metadata": {},
   "source": [
    "6. Write a program to scrap details of all the funding deals for second quarter (i.e. July 20 – September 20) from trak.in."
   ]
  },
  {
   "cell_type": "code",
   "execution_count": 36,
   "metadata": {},
   "outputs": [],
   "source": [
    "url= \"https://www.trak.in\"\n",
    "driver.get(url)"
   ]
  },
  {
   "cell_type": "code",
   "execution_count": 38,
   "metadata": {},
   "outputs": [],
   "source": [
    "more_btn=driver.find_element_by_xpath(\"//li[@class='bs-pretty-tabs-container menu-item-has-children menu-item better-anim-fade bsm-leave']\")\n",
    "more_btn.click()\n",
    "\n",
    "btn=driver.find_element_by_xpath(\"/html/body/div[1]/header/div[2]/div/div/div/div/nav/ul/li[8]/ul/li[2]/a\")\n",
    "btn.click()"
   ]
  },
  {
   "cell_type": "code",
   "execution_count": 39,
   "metadata": {},
   "outputs": [],
   "source": [
    "detail_tags=driver.find_elements_by_xpath(\"//div[@class='dataTables_wrapper no-footer']\")\n",
    "details=[]\n",
    "for i in detail_tags:\n",
    "    details.append(i.text.replace(\"\\n\",\" \"))"
   ]
  },
  {
   "cell_type": "markdown",
   "metadata": {},
   "source": [
    "7. Write a program to scrap all the available details of best gaming laptops from digit.in."
   ]
  },
  {
   "cell_type": "code",
   "execution_count": 40,
   "metadata": {},
   "outputs": [],
   "source": [
    "url= \"https://www.digit.in\"\n",
    "driver.get(url)"
   ]
  },
  {
   "cell_type": "code",
   "execution_count": 41,
   "metadata": {},
   "outputs": [],
   "source": [
    "btn= driver.find_element_by_xpath(\"/html/body/div[3]/div/div[2]/div[2]/div[7]/ul/li[9]/a\")\n",
    "btn.click()"
   ]
  },
  {
   "cell_type": "code",
   "execution_count": 45,
   "metadata": {},
   "outputs": [
    {
     "data": {
      "text/plain": [
       "['1. ALIENWARE AREA 51M R2',\n",
       " '2. ALIENWARE M15 R3',\n",
       " '3. ASUS ROG STRIX SCAR 15',\n",
       " '4. ASUS ROG ZEPHYRUS G14',\n",
       " '5. LENOVO LEGION 5I',\n",
       " '6. ASUS ROG ZEPHYRUS DUO 15',\n",
       " '7. ACER ASPIRE 7 GAMING']"
      ]
     },
     "execution_count": 45,
     "metadata": {},
     "output_type": "execute_result"
    }
   ],
   "source": [
    "name=driver.find_elements_by_xpath(\"//div[@class='TopNumbeHeading sticky-footer' or @class='TopNumbeHeading sticky-footer active']\")\n",
    "prod_name=[]\n",
    "for i in name:\n",
    "    prod_name.append(i.text.replace(\"\\n\",\" \"))\n",
    "prod_name"
   ]
  },
  {
   "cell_type": "code",
   "execution_count": 46,
   "metadata": {},
   "outputs": [],
   "source": [
    "content= driver.find_elements_by_xpath(\"//div[@class='Spcs-details']\")\n",
    "specification=[]\n",
    "for i in content:\n",
    "    specification.append(i.text.replace(\"\\n\",\" \"))"
   ]
  },
  {
   "cell_type": "code",
   "execution_count": 47,
   "metadata": {},
   "outputs": [
    {
     "data": {
      "text/html": [
       "<div>\n",
       "<style scoped>\n",
       "    .dataframe tbody tr th:only-of-type {\n",
       "        vertical-align: middle;\n",
       "    }\n",
       "\n",
       "    .dataframe tbody tr th {\n",
       "        vertical-align: top;\n",
       "    }\n",
       "\n",
       "    .dataframe thead th {\n",
       "        text-align: right;\n",
       "    }\n",
       "</style>\n",
       "<table border=\"1\" class=\"dataframe\">\n",
       "  <thead>\n",
       "    <tr style=\"text-align: right;\">\n",
       "      <th></th>\n",
       "      <th>Name</th>\n",
       "      <th>Specifications</th>\n",
       "    </tr>\n",
       "  </thead>\n",
       "  <tbody>\n",
       "    <tr>\n",
       "      <th>0</th>\n",
       "      <td>1. ALIENWARE AREA 51M R2</td>\n",
       "      <td>SPECIFICATION OS : Windows 10 Home Display : 1...</td>\n",
       "    </tr>\n",
       "    <tr>\n",
       "      <th>1</th>\n",
       "      <td>2. ALIENWARE M15 R3</td>\n",
       "      <td>SPECIFICATION OS : Windows 10 Home Display : 1...</td>\n",
       "    </tr>\n",
       "    <tr>\n",
       "      <th>2</th>\n",
       "      <td>3. ASUS ROG STRIX SCAR 15</td>\n",
       "      <td>SPECIFICATION OS : Windows 10 Home Display : 1...</td>\n",
       "    </tr>\n",
       "    <tr>\n",
       "      <th>3</th>\n",
       "      <td>4. ASUS ROG ZEPHYRUS G14</td>\n",
       "      <td>SPECIFICATION OS : Windows 10 Home Display : 1...</td>\n",
       "    </tr>\n",
       "    <tr>\n",
       "      <th>4</th>\n",
       "      <td>5. LENOVO LEGION 5I</td>\n",
       "      <td>SPECIFICATION OS : Windows 10 Pro Display : 15...</td>\n",
       "    </tr>\n",
       "  </tbody>\n",
       "</table>\n",
       "</div>"
      ],
      "text/plain": [
       "                        Name  \\\n",
       "0   1. ALIENWARE AREA 51M R2   \n",
       "1        2. ALIENWARE M15 R3   \n",
       "2  3. ASUS ROG STRIX SCAR 15   \n",
       "3   4. ASUS ROG ZEPHYRUS G14   \n",
       "4        5. LENOVO LEGION 5I   \n",
       "\n",
       "                                      Specifications  \n",
       "0  SPECIFICATION OS : Windows 10 Home Display : 1...  \n",
       "1  SPECIFICATION OS : Windows 10 Home Display : 1...  \n",
       "2  SPECIFICATION OS : Windows 10 Home Display : 1...  \n",
       "3  SPECIFICATION OS : Windows 10 Home Display : 1...  \n",
       "4  SPECIFICATION OS : Windows 10 Pro Display : 15...  "
      ]
     },
     "execution_count": 47,
     "metadata": {},
     "output_type": "execute_result"
    }
   ],
   "source": [
    "Laptop=pd.DataFrame()\n",
    "Laptop[\"Name\"]=prod_name\n",
    "Laptop[\"Specifications\"]=specification\n",
    "Laptop.head()"
   ]
  },
  {
   "cell_type": "markdown",
   "metadata": {},
   "source": [
    "8. Write a python program to scrape the details for all billionaires from www.forbes.com. Details to be scrapped: “Rank”, “Name”, “Net worth”, “Age”, “Citizenship”, “Source”, “Industry”."
   ]
  },
  {
   "cell_type": "code",
   "execution_count": 48,
   "metadata": {},
   "outputs": [],
   "source": [
    "url=\"https://www.forbes.com\"\n",
    "driver.get(url)"
   ]
  },
  {
   "cell_type": "code",
   "execution_count": 49,
   "metadata": {},
   "outputs": [],
   "source": [
    "exp= driver.find_element_by_xpath(\"/html/body/div[1]/header/nav/div[1]/button[1]\")\n",
    "exp.click()\n",
    "btn= driver.find_element_by_xpath(\"//li[@class='header__channel header__color--centennial-silver header__hoverable']\")\n",
    "btn.click()\n",
    "btn1= driver.find_element_by_xpath(\"/html/body/div[1]/header/nav/div[3]/ul/li[1]/div[2]/ul/li[2]/a\")\n",
    "btn1.click()"
   ]
  },
  {
   "cell_type": "code",
   "execution_count": 50,
   "metadata": {},
   "outputs": [],
   "source": [
    "nm=driver.find_elements_by_xpath(\"//div[@class='personName']\")\n",
    "name=[]\n",
    "for i in nm:\n",
    "    name.append(i.text)"
   ]
  },
  {
   "cell_type": "code",
   "execution_count": 51,
   "metadata": {},
   "outputs": [],
   "source": [
    "worth= driver.find_elements_by_xpath(\"//div[@class='netWorth']\")\n",
    "n_worth=[]\n",
    "for i in worth:\n",
    "    n_worth.append(i.text)"
   ]
  },
  {
   "cell_type": "code",
   "execution_count": 52,
   "metadata": {},
   "outputs": [],
   "source": [
    "citz= driver.find_elements_by_xpath(\"//div[@class='countryOfCitizenship']\")\n",
    "citzn=[]\n",
    "for i in citz:\n",
    "    citzn.append(i.text)"
   ]
  },
  {
   "cell_type": "code",
   "execution_count": 53,
   "metadata": {},
   "outputs": [],
   "source": [
    "src_t= driver.find_elements_by_xpath(\"//div[@class='source-column']\")\n",
    "src=[]\n",
    "for i in src_t:\n",
    "    src.append(i.text)"
   ]
  },
  {
   "cell_type": "code",
   "execution_count": 54,
   "metadata": {},
   "outputs": [],
   "source": [
    "rnk_t= driver.find_elements_by_xpath(\"//div[@class='rank']\")\n",
    "rnk=[]\n",
    "for i in rnk_t:\n",
    "    rnk.append(i.text)"
   ]
  },
  {
   "cell_type": "code",
   "execution_count": 55,
   "metadata": {},
   "outputs": [
    {
     "data": {
      "text/html": [
       "<div>\n",
       "<style scoped>\n",
       "    .dataframe tbody tr th:only-of-type {\n",
       "        vertical-align: middle;\n",
       "    }\n",
       "\n",
       "    .dataframe tbody tr th {\n",
       "        vertical-align: top;\n",
       "    }\n",
       "\n",
       "    .dataframe thead th {\n",
       "        text-align: right;\n",
       "    }\n",
       "</style>\n",
       "<table border=\"1\" class=\"dataframe\">\n",
       "  <thead>\n",
       "    <tr style=\"text-align: right;\">\n",
       "      <th></th>\n",
       "      <th>Rank</th>\n",
       "      <th>Name</th>\n",
       "      <th>Citezenship</th>\n",
       "      <th>Source</th>\n",
       "    </tr>\n",
       "  </thead>\n",
       "  <tbody>\n",
       "    <tr>\n",
       "      <th>0</th>\n",
       "      <td>1.</td>\n",
       "      <td>Jeff Bezos</td>\n",
       "      <td>United States</td>\n",
       "      <td>Amazon</td>\n",
       "    </tr>\n",
       "    <tr>\n",
       "      <th>1</th>\n",
       "      <td>2.</td>\n",
       "      <td>Elon Musk</td>\n",
       "      <td>United States</td>\n",
       "      <td>Tesla, SpaceX</td>\n",
       "    </tr>\n",
       "    <tr>\n",
       "      <th>2</th>\n",
       "      <td>3.</td>\n",
       "      <td>Bernard Arnault &amp; family</td>\n",
       "      <td>France</td>\n",
       "      <td>LVMH</td>\n",
       "    </tr>\n",
       "    <tr>\n",
       "      <th>3</th>\n",
       "      <td>4.</td>\n",
       "      <td>Bill Gates</td>\n",
       "      <td>United States</td>\n",
       "      <td>Microsoft</td>\n",
       "    </tr>\n",
       "    <tr>\n",
       "      <th>4</th>\n",
       "      <td>5.</td>\n",
       "      <td>Mark Zuckerberg</td>\n",
       "      <td>United States</td>\n",
       "      <td>Facebook</td>\n",
       "    </tr>\n",
       "  </tbody>\n",
       "</table>\n",
       "</div>"
      ],
      "text/plain": [
       "  Rank                      Name    Citezenship         Source\n",
       "0   1.                Jeff Bezos  United States         Amazon\n",
       "1   2.                 Elon Musk  United States  Tesla, SpaceX\n",
       "2   3.  Bernard Arnault & family         France           LVMH\n",
       "3   4.                Bill Gates  United States      Microsoft\n",
       "4   5.           Mark Zuckerberg  United States       Facebook"
      ]
     },
     "execution_count": 55,
     "metadata": {},
     "output_type": "execute_result"
    }
   ],
   "source": [
    "billionaires=pd.DataFrame()\n",
    "billionaires[\"Rank\"]=rnk\n",
    "billionaires[\"Name\"]=name\n",
    "billionaires[\"Citezenship\"]=citzn\n",
    "billionaires[\"Source\"]=src\n",
    "billionaires.head()"
   ]
  },
  {
   "cell_type": "markdown",
   "metadata": {},
   "source": [
    "9. Write a program to extract at least 500 Comments, Comment upvote and time when comment was posted from any YouTube Video."
   ]
  },
  {
   "cell_type": "code",
   "execution_count": 56,
   "metadata": {},
   "outputs": [],
   "source": [
    "url=\"https://www.youtube.com\"\n",
    "driver.get(url)"
   ]
  },
  {
   "cell_type": "code",
   "execution_count": 57,
   "metadata": {},
   "outputs": [],
   "source": [
    "vid=driver.find_element_by_xpath(\"/html/body/ytd-app/div/ytd-page-manager/ytd-browse/ytd-two-column-browse-results-renderer/div[1]/ytd-rich-grid-renderer/div[6]/ytd-rich-section-renderer[1]/div/ytd-rich-shelf-renderer/div[1]/div[2]/ytd-rich-item-renderer[1]/div/ytd-rich-grid-media/div[1]/div\")\n",
    "vid.click()"
   ]
  },
  {
   "cell_type": "code",
   "execution_count": 58,
   "metadata": {},
   "outputs": [],
   "source": [
    "cmnt=driver.find_elements_by_id(\"content-text\")\n",
    "comnt=[]\n",
    "for i in cmnt:\n",
    "    comnt.append(i.text)"
   ]
  },
  {
   "cell_type": "code",
   "execution_count": 59,
   "metadata": {},
   "outputs": [],
   "source": [
    "vote=driver.find_elements_by_id(\"vote-count-middle\")\n",
    "upvote=[]\n",
    "for i in vote:\n",
    "    upvote.append(i.text)"
   ]
  },
  {
   "cell_type": "code",
   "execution_count": 60,
   "metadata": {},
   "outputs": [],
   "source": [
    "time_t=driver.find_elements_by_xpath(\"//a[@class='yt-simple-endpoint style-scope yt-formatted-string']\")\n",
    "time=[]\n",
    "for i in time_t:\n",
    "    time.append(i.text)"
   ]
  },
  {
   "cell_type": "markdown",
   "metadata": {},
   "source": [
    "10. Write a python program to scrape a data for all available Hostels from https://www.hostelworld.com/ in “London” location. You have to scrape hostel name, distance from city centre, ratings, total reviews, overall reviews, privates from price, dorms from price, facilities and property description."
   ]
  },
  {
   "cell_type": "code",
   "execution_count": 61,
   "metadata": {},
   "outputs": [],
   "source": [
    "url=\"https://www.hostelworld.com/\"\n",
    "driver.get(url)"
   ]
  },
  {
   "cell_type": "code",
   "execution_count": 63,
   "metadata": {},
   "outputs": [],
   "source": [
    "loc= driver.find_element_by_id(\"search-input-field\")\n",
    "loc.send_keys(\"London\")"
   ]
  },
  {
   "cell_type": "code",
   "execution_count": 64,
   "metadata": {},
   "outputs": [],
   "source": [
    "btn=driver.find_element_by_xpath(\"/html/body/div[1]/div/div/div[1]/div[1]/div/div[2]/div[4]/div/div[2]/div/div[1]/div/div/ul/li[2]/div\")\n",
    "btn.click()"
   ]
  },
  {
   "cell_type": "code",
   "execution_count": 65,
   "metadata": {},
   "outputs": [],
   "source": [
    "search_btn=driver.find_element_by_id(\"search-button\")\n",
    "search_btn.click()"
   ]
  },
  {
   "cell_type": "code",
   "execution_count": 66,
   "metadata": {},
   "outputs": [],
   "source": [
    "nm=driver.find_elements_by_xpath(\"//h2[@class='title title-6']\")\n",
    "name=[]\n",
    "for i in nm:\n",
    "    name.append(i.text)"
   ]
  },
  {
   "cell_type": "code",
   "execution_count": 67,
   "metadata": {},
   "outputs": [],
   "source": [
    "dist=driver.find_elements_by_xpath(\"//span[@class='description']\")\n",
    "distnc=[]\n",
    "for i in dist:\n",
    "    distnc.append(i.text)"
   ]
  },
  {
   "cell_type": "code",
   "execution_count": 68,
   "metadata": {},
   "outputs": [],
   "source": [
    "ovral=driver.find_elements_by_xpath(\"//div[@class='keyword']\")\n",
    "overall=[]\n",
    "for i in ovral:\n",
    "    overall.append(i.text)"
   ]
  },
  {
   "cell_type": "code",
   "execution_count": 69,
   "metadata": {},
   "outputs": [],
   "source": [
    "rtng=driver.find_elements_by_xpath(\"//div[@class='reviews']\")\n",
    "rating=[]\n",
    "for i in rtng:\n",
    "    rating.append(i.text)"
   ]
  },
  {
   "cell_type": "code",
   "execution_count": 71,
   "metadata": {},
   "outputs": [],
   "source": [
    "prc=driver.find_elements_by_xpath(\"//div[@class='reviews' and @class='no-price body-3 no-privates' and @class='no-price body-3 no-dorms']\")\n",
    "price=[]\n",
    "for i in prc:\n",
    "    price.append(i.text)"
   ]
  },
  {
   "cell_type": "code",
   "execution_count": 74,
   "metadata": {},
   "outputs": [
    {
     "data": {
      "text/html": [
       "<div>\n",
       "<style scoped>\n",
       "    .dataframe tbody tr th:only-of-type {\n",
       "        vertical-align: middle;\n",
       "    }\n",
       "\n",
       "    .dataframe tbody tr th {\n",
       "        vertical-align: top;\n",
       "    }\n",
       "\n",
       "    .dataframe thead th {\n",
       "        text-align: right;\n",
       "    }\n",
       "</style>\n",
       "<table border=\"1\" class=\"dataframe\">\n",
       "  <thead>\n",
       "    <tr style=\"text-align: right;\">\n",
       "      <th></th>\n",
       "      <th>Name</th>\n",
       "      <th>Distance</th>\n",
       "      <th>Overall_Review</th>\n",
       "      <th>Number_of_review</th>\n",
       "    </tr>\n",
       "  </thead>\n",
       "  <tbody>\n",
       "  </tbody>\n",
       "</table>\n",
       "</div>"
      ],
      "text/plain": [
       "Empty DataFrame\n",
       "Columns: [Name, Distance, Overall_Review, Number_of_review]\n",
       "Index: []"
      ]
     },
     "execution_count": 74,
     "metadata": {},
     "output_type": "execute_result"
    }
   ],
   "source": [
    "hostels=pd.DataFrame()\n",
    "hostels[\"Name\"]=name\n",
    "hostels[\"Distance\"]=dist\n",
    "hostels[\"Overall_Review\"]=overall\n",
    "hostels[\"Number_of_review\"]=rating\n",
    "hostels.head()"
   ]
  },
  {
   "cell_type": "code",
   "execution_count": null,
   "metadata": {},
   "outputs": [],
   "source": []
  }
 ],
 "metadata": {
  "kernelspec": {
   "display_name": "Python 3",
   "language": "python",
   "name": "python3"
  },
  "language_info": {
   "codemirror_mode": {
    "name": "ipython",
    "version": 3
   },
   "file_extension": ".py",
   "mimetype": "text/x-python",
   "name": "python",
   "nbconvert_exporter": "python",
   "pygments_lexer": "ipython3",
   "version": "3.7.3"
  }
 },
 "nbformat": 4,
 "nbformat_minor": 2
}
